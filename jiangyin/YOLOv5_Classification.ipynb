{
  "nbformat": 4,
  "nbformat_minor": 0,
  "metadata": {
    "colab": {
      "provenance": [],
      "include_colab_link": true
    },
    "kernelspec": {
      "name": "python3",
      "display_name": "Python 3"
    },
    "language_info": {
      "name": "python"
    },
    "accelerator": "GPU",
    "gpuClass": "standard"
  },
  "cells": [
    {
      "cell_type": "markdown",
      "metadata": {
        "id": "view-in-github",
        "colab_type": "text"
      },
      "source": [
        "<a href=\"https://colab.research.google.com/github/liuli01/google_yolov5/blob/main/jiangyin/YOLOv5_Classification.ipynb\" target=\"_parent\"><img src=\"https://colab.research.google.com/assets/colab-badge.svg\" alt=\"Open In Colab\"/></a>"
      ]
    },
    {
      "cell_type": "markdown",
      "source": [
        "# YOLOv5 Classification Tutorial\n",
        "\n",
        "YOLOv5 supports classification tasks too. This is the official YOLOv5 classification notebook tutorial. YOLOv5 is maintained by [Ultralytics](https://github.com/ultralytics/yolov5).\n",
        "\n",
        "This notebook covers:\n",
        "\n",
        "*   Inference with out-of-the-box YOLOv5 classification on ImageNet\n",
        "*  [Training YOLOv5 classification](https://blog.roboflow.com//train-YOLOv5-classification-custom-data) on custom data\n",
        "\n",
        "*Looking for custom data? Explore over 66M community datasets on [Roboflow Universe](https://universe.roboflow.com).*\n",
        "\n",
        "This notebook was created with Google Colab. [Click here](https://colab.research.google.com/drive/1FiSNz9f_nT8aFtDEU3iDAQKlPT8SCVni?usp=sharing) to run it."
      ],
      "metadata": {
        "id": "5GYQX3of4QiW"
      }
    },
    {
      "cell_type": "markdown",
      "source": [
        "# Setup\n",
        "\n",
        "Pull in respective libraries to prepare the notebook environment."
      ],
      "metadata": {
        "id": "-PJ8vlYXbWtN"
      }
    },
    {
      "cell_type": "code",
      "execution_count": 1,
      "metadata": {
        "id": "pIM7fOwm8A7l",
        "colab": {
          "base_uri": "https://localhost:8080/"
        },
        "outputId": "00d27553-f0b1-4e54-b8c5-de55eb7e2e7c"
      },
      "outputs": [
        {
          "output_type": "stream",
          "name": "stderr",
          "text": [
            "YOLOv5 🚀 v7.0-284-g95ebf68f Python-3.10.12 torch-2.1.0+cu121 CUDA:0 (Tesla T4, 15102MiB)\n"
          ]
        },
        {
          "output_type": "stream",
          "name": "stdout",
          "text": [
            "Setup complete ✅ (2 CPUs, 12.7 GB RAM, 26.4/78.2 GB disk)\n"
          ]
        }
      ],
      "source": [
        "!git clone https://github.com/ultralytics/yolov5  # clone\n",
        "%cd yolov5\n",
        "%pip install -qr requirements.txt  # install\n",
        "\n",
        "import torch\n",
        "import utils\n",
        "display = utils.notebook_init()  # checks"
      ]
    },
    {
      "cell_type": "markdown",
      "source": [
        "# 1. Infer on ImageNet\n",
        "\n",
        "To demonstrate YOLOv5 classification, we'll leverage an already trained model. In this case, we'll download the ImageNet trained models pretrained on ImageNet using YOLOv5 Utils."
      ],
      "metadata": {
        "id": "i_DrUi2nmF40"
      }
    },
    {
      "cell_type": "code",
      "source": [
        "from utils.downloads import attempt_download\n",
        "\n",
        "p5 = ['n', 's', 'm', 'l', 'x']  # P5 models\n",
        "cls = [f'{x}-cls' for x in p5]  # classification models\n",
        "\n",
        "for x in cls:\n",
        "    attempt_download(f'weights/yolov5{x}.pt')"
      ],
      "metadata": {
        "id": "o2scLEh6EYnL",
        "colab": {
          "base_uri": "https://localhost:8080/"
        },
        "outputId": "8b2be2f1-a9f6-4657-d8f1-985295fe187e"
      },
      "execution_count": 2,
      "outputs": [
        {
          "output_type": "stream",
          "name": "stderr",
          "text": [
            "Downloading https://github.com/ultralytics/yolov5/releases/download/v7.0/yolov5n-cls.pt to weights/yolov5n-cls.pt...\n",
            "100%|██████████| 4.87M/4.87M [00:00<00:00, 89.2MB/s]\n",
            "\n",
            "Downloading https://github.com/ultralytics/yolov5/releases/download/v7.0/yolov5s-cls.pt to weights/yolov5s-cls.pt...\n",
            "100%|██████████| 10.5M/10.5M [00:00<00:00, 140MB/s]\n",
            "\n",
            "Downloading https://github.com/ultralytics/yolov5/releases/download/v7.0/yolov5m-cls.pt to weights/yolov5m-cls.pt...\n",
            "100%|██████████| 24.9M/24.9M [00:00<00:00, 187MB/s]\n",
            "\n",
            "Downloading https://github.com/ultralytics/yolov5/releases/download/v7.0/yolov5l-cls.pt to weights/yolov5l-cls.pt...\n",
            "100%|██████████| 50.9M/50.9M [00:00<00:00, 279MB/s]\n",
            "\n",
            "Downloading https://github.com/ultralytics/yolov5/releases/download/v7.0/yolov5x-cls.pt to weights/yolov5x-cls.pt...\n",
            "100%|██████████| 92.0M/92.0M [00:00<00:00, 247MB/s]\n",
            "\n"
          ]
        }
      ]
    },
    {
      "cell_type": "markdown",
      "source": [
        "Now, we can infer on an example image from the ImageNet dataset."
      ],
      "metadata": {
        "id": "Fn2_a38DmZ2H"
      }
    },
    {
      "cell_type": "code",
      "source": [
        "#Download example image\n",
        "import requests\n",
        "image_url = \"https://i.imgur.com/OczPfaz.jpg\"\n",
        "img_data = requests.get(image_url).content\n",
        "with open('bananas.jpg', 'wb') as handler:\n",
        "    handler.write(img_data)"
      ],
      "metadata": {
        "id": "L9objhVHnS-h"
      },
      "execution_count": 3,
      "outputs": []
    },
    {
      "cell_type": "code",
      "source": [
        "#Infer using classify/predict.py\n",
        "!python classify/predict.py --weights ./weigths/yolov5s-cls.pt --source bananas.jpg"
      ],
      "metadata": {
        "id": "qqxF5pHCrLd3",
        "colab": {
          "base_uri": "https://localhost:8080/"
        },
        "outputId": "e0114087-d032-40a3-af9d-d51fb6ddd0df"
      },
      "execution_count": 4,
      "outputs": [
        {
          "output_type": "stream",
          "name": "stdout",
          "text": [
            "\u001b[34m\u001b[1mclassify/predict: \u001b[0mweights=['./weigths/yolov5s-cls.pt'], source=bananas.jpg, data=data/coco128.yaml, imgsz=[224, 224], device=, view_img=False, save_txt=False, nosave=False, augment=False, visualize=False, update=False, project=runs/predict-cls, name=exp, exist_ok=False, half=False, dnn=False, vid_stride=1\n",
            "YOLOv5 🚀 v7.0-284-g95ebf68f Python-3.10.12 torch-2.1.0+cu121 CUDA:0 (Tesla T4, 15102MiB)\n",
            "\n",
            "Downloading https://github.com/ultralytics/yolov5/releases/download/v7.0/yolov5s-cls.pt to weigths/yolov5s-cls.pt...\n",
            "100% 10.5M/10.5M [00:00<00:00, 164MB/s]\n",
            "\n",
            "Fusing layers... \n",
            "Model summary: 117 layers, 5447688 parameters, 0 gradients, 11.4 GFLOPs\n",
            "image 1/1 /content/yolov5/bananas.jpg: 224x224 banana 0.96, zucchini 0.00, acorn squash 0.00, spaghetti squash 0.00, green mamba 0.00, 3.2ms\n",
            "Speed: 0.4ms pre-process, 3.2ms inference, 44.0ms NMS per image at shape (1, 3, 224, 224)\n",
            "Results saved to \u001b[1mruns/predict-cls/exp\u001b[0m\n"
          ]
        }
      ]
    },
    {
      "cell_type": "markdown",
      "source": [
        "From the output, we can see the ImageNet trained model correctly predicts the class `banana` with `0.95` confidence."
      ],
      "metadata": {
        "id": "yQmj7IXqo3kk"
      }
    },
    {
      "cell_type": "markdown",
      "source": [
        "## 2. (Optional) Validate\n",
        "\n",
        "Use the `classify/val.py` script to run validation for the model. This will show us the model's performance on each class.\n",
        "\n",
        "First, we need to download ImageNet."
      ],
      "metadata": {
        "id": "5EosQzyDCk3W"
      }
    },
    {
      "cell_type": "code",
      "source": [
        "# # WARNING: takes ~20 minutes\n",
        "# !bash data/scripts/get_imagenet.sh --val"
      ],
      "metadata": {
        "id": "HwAYptjCq-C_"
      },
      "execution_count": 5,
      "outputs": []
    },
    {
      "cell_type": "code",
      "source": [
        "# # run the validation script\n",
        "# !python classify/val.py --weights ./weigths/yolov5s-cls.pt --data ../datasets/imagenet"
      ],
      "metadata": {
        "id": "CoHdKXWc8hrD"
      },
      "execution_count": 6,
      "outputs": []
    },
    {
      "cell_type": "markdown",
      "source": [
        "The output shows accuracy metrics for the ImageNet validation dataset including per class accuracy."
      ],
      "metadata": {
        "id": "r2coOcIjuzCO"
      }
    },
    {
      "cell_type": "markdown",
      "source": [
        "# 3. Train On Custom Data\n",
        "\n",
        "To train on custom data, we need to prepare a dataset with custom labels.\n",
        "\n",
        "To prepare custom data, we'll use [Roboflow](https://roboflow.com). Roboflow enables easy dataset prep with your team, including labeling, formatting into the right export format, deploying, and active learning with a `pip` package.\n",
        "\n",
        "If you need custom data, there are over 66M open source images from the community on [Roboflow Universe](https://universe.roboflow.com).\n",
        "\n",
        "(For more guidance, here's a detailed blog on [training YOLOv5 classification on custom data](https://blog.roboflow.com/train-YOLOv5-classification-custom-data).)\n",
        "\n",
        "\n",
        "Create a free Roboflow account, upload your data, and label.\n",
        "\n",
        "![](https://s4.gifyu.com/images/fruit-labeling.gif)"
      ],
      "metadata": {
        "id": "9bXHHYeVDCXg"
      }
    },
    {
      "cell_type": "markdown",
      "source": [
        "### Load Custom Dataset\n",
        "\n",
        "Next, we'll export our dataset into the right directory structure for training YOLOv5 classification to load into this notebook. Select the `Export` button at the top of the version page, `Folder Structure` type, and `show download code`.\n",
        "\n",
        "The ensures all our directories are in the right format:\n",
        "\n",
        "```\n",
        "dataset\n",
        "├── train\n",
        "│   ├── class-one\n",
        "│   │   ├── IMG_123.jpg\n",
        "│   └── class-two\n",
        "│       ├── IMG_456.jpg\n",
        "├── valid\n",
        "│   ├── class-one\n",
        "│   │   ├── IMG_789.jpg\n",
        "│   └── class-two\n",
        "│       ├── IMG_101.jpg\n",
        "├── test\n",
        "│   ├── class-one\n",
        "│   │   ├── IMG_121.jpg\n",
        "│   └── class-two\n",
        "│       ├── IMG_341.jpg\n",
        "```\n",
        "\n",
        "![](https://i.imgur.com/BF9BNR8.gif)\n",
        "\n",
        "\n",
        "Copy and paste that snippet into the cell below."
      ],
      "metadata": {
        "id": "Cu6-lrukD6Hc"
      }
    },
    {
      "cell_type": "code",
      "source": [
        "# Ensure we're in the right directory to download our custom dataset\n",
        "import os\n",
        "os.makedirs(\"../datasets/\", exist_ok=True)\n",
        "%cd ../datasets/"
      ],
      "metadata": {
        "id": "6IIgJbP7G6Th",
        "colab": {
          "base_uri": "https://localhost:8080/"
        },
        "outputId": "98bf0c11-e69f-44dd-e5cf-c819094ccad3"
      },
      "execution_count": 4,
      "outputs": [
        {
          "output_type": "stream",
          "name": "stdout",
          "text": [
            "/content/datasets\n"
          ]
        }
      ]
    },
    {
      "cell_type": "code",
      "source": [
        "# REPLACE the below with your exported code snippet from above\n",
        "!pip install roboflow\n",
        "\n",
        "from roboflow import Roboflow\n",
        "rf = Roboflow(api_key=\"6WDkK5z8zEtKcgtIki79\")\n",
        "print(rf.workspace())\n",
        "\n",
        "project = rf.workspace(\"jiangyin\").project(\"water-quality-ou1iu\")\n",
        "dataset = project.version(1).download(\"folder\")\n"
      ],
      "metadata": {
        "id": "He6JwHIlG-W_",
        "colab": {
          "base_uri": "https://localhost:8080/"
        },
        "outputId": "1b731b05-2cbd-42bd-f608-8ecb85383418"
      },
      "execution_count": 7,
      "outputs": [
        {
          "output_type": "stream",
          "name": "stdout",
          "text": [
            "Requirement already satisfied: roboflow in /usr/local/lib/python3.10/dist-packages (1.1.19)\n",
            "Requirement already satisfied: certifi==2023.7.22 in /usr/local/lib/python3.10/dist-packages (from roboflow) (2023.7.22)\n",
            "Requirement already satisfied: chardet==4.0.0 in /usr/local/lib/python3.10/dist-packages (from roboflow) (4.0.0)\n",
            "Requirement already satisfied: cycler==0.10.0 in /usr/local/lib/python3.10/dist-packages (from roboflow) (0.10.0)\n",
            "Requirement already satisfied: idna==2.10 in /usr/local/lib/python3.10/dist-packages (from roboflow) (2.10)\n",
            "Requirement already satisfied: kiwisolver>=1.3.1 in /usr/local/lib/python3.10/dist-packages (from roboflow) (1.4.5)\n",
            "Requirement already satisfied: matplotlib in /usr/local/lib/python3.10/dist-packages (from roboflow) (3.7.1)\n",
            "Requirement already satisfied: numpy>=1.18.5 in /usr/local/lib/python3.10/dist-packages (from roboflow) (1.25.2)\n",
            "Requirement already satisfied: opencv-python-headless==4.8.0.74 in /usr/local/lib/python3.10/dist-packages (from roboflow) (4.8.0.74)\n",
            "Requirement already satisfied: Pillow>=7.1.2 in /usr/local/lib/python3.10/dist-packages (from roboflow) (9.4.0)\n",
            "Requirement already satisfied: python-dateutil in /usr/local/lib/python3.10/dist-packages (from roboflow) (2.8.2)\n",
            "Requirement already satisfied: python-dotenv in /usr/local/lib/python3.10/dist-packages (from roboflow) (1.0.1)\n",
            "Requirement already satisfied: requests in /usr/local/lib/python3.10/dist-packages (from roboflow) (2.31.0)\n",
            "Requirement already satisfied: six in /usr/local/lib/python3.10/dist-packages (from roboflow) (1.16.0)\n",
            "Requirement already satisfied: supervision in /usr/local/lib/python3.10/dist-packages (from roboflow) (0.18.0)\n",
            "Requirement already satisfied: urllib3>=1.26.6 in /usr/local/lib/python3.10/dist-packages (from roboflow) (2.0.7)\n",
            "Requirement already satisfied: tqdm>=4.41.0 in /usr/local/lib/python3.10/dist-packages (from roboflow) (4.66.2)\n",
            "Requirement already satisfied: PyYAML>=5.3.1 in /usr/local/lib/python3.10/dist-packages (from roboflow) (6.0.1)\n",
            "Requirement already satisfied: requests-toolbelt in /usr/local/lib/python3.10/dist-packages (from roboflow) (1.0.0)\n",
            "Requirement already satisfied: python-magic in /usr/local/lib/python3.10/dist-packages (from roboflow) (0.4.27)\n",
            "Requirement already satisfied: contourpy>=1.0.1 in /usr/local/lib/python3.10/dist-packages (from matplotlib->roboflow) (1.2.0)\n",
            "Requirement already satisfied: fonttools>=4.22.0 in /usr/local/lib/python3.10/dist-packages (from matplotlib->roboflow) (4.48.1)\n",
            "Requirement already satisfied: packaging>=20.0 in /usr/local/lib/python3.10/dist-packages (from matplotlib->roboflow) (23.2)\n",
            "Requirement already satisfied: pyparsing>=2.3.1 in /usr/local/lib/python3.10/dist-packages (from matplotlib->roboflow) (3.1.1)\n",
            "Requirement already satisfied: charset-normalizer<4,>=2 in /usr/local/lib/python3.10/dist-packages (from requests->roboflow) (3.3.2)\n",
            "Requirement already satisfied: defusedxml<0.8.0,>=0.7.1 in /usr/local/lib/python3.10/dist-packages (from supervision->roboflow) (0.7.1)\n",
            "Requirement already satisfied: scipy<2.0.0,>=1.10.0 in /usr/local/lib/python3.10/dist-packages (from supervision->roboflow) (1.11.4)\n",
            "loading Roboflow workspace...\n",
            "{\n",
            "  \"name\": \"jiangyin\",\n",
            "  \"url\": \"jiangyin\",\n",
            "  \"projects\": [\n",
            "    \"jiangyin/hard-hat-sample-14ocb\",\n",
            "    \"jiangyin/water-quality-ou1iu\"\n",
            "  ]\n",
            "}\n",
            "loading Roboflow workspace...\n",
            "loading Roboflow project...\n",
            "Exporting format folder in progress : 85.0%\n",
            "Version export complete for folder format\n"
          ]
        },
        {
          "output_type": "stream",
          "name": "stderr",
          "text": [
            "Downloading Dataset Version Zip in water-quality-1 to folder:: 100%|██████████| 4785/4785 [00:00<00:00, 14534.88it/s]"
          ]
        },
        {
          "output_type": "stream",
          "name": "stdout",
          "text": [
            "\n"
          ]
        },
        {
          "output_type": "stream",
          "name": "stderr",
          "text": [
            "\n",
            "Extracting Dataset Version Zip to water-quality-1 in folder:: 100%|██████████| 69/69 [00:00<00:00, 3931.20it/s]\n"
          ]
        }
      ]
    },
    {
      "cell_type": "code",
      "source": [
        "#Save the dataset name to the environment so we can use it in a system call later\n",
        "dataset_name = dataset.location.split(os.sep)[-1]\n",
        "os.environ[\"DATASET_NAME\"] = dataset_name\n",
        "print(dataset_name)"
      ],
      "metadata": {
        "id": "wLQbThFICpn4",
        "colab": {
          "base_uri": "https://localhost:8080/"
        },
        "outputId": "01c4b69c-a70d-448e-d779-0911a3965299"
      },
      "execution_count": 8,
      "outputs": [
        {
          "output_type": "stream",
          "name": "stdout",
          "text": [
            "water-quality-1\n"
          ]
        }
      ]
    },
    {
      "cell_type": "markdown",
      "source": [
        "### Train On Custom Data 🎉\n",
        "Here, we use the DATASET_NAME environment variable to pass our dataset to the `--data` parameter.\n",
        "\n",
        "Note: we're training for 100 epochs here. We're also starting training from the pretrained weights. Larger datasets will likely benefit from longer training."
      ],
      "metadata": {
        "id": "-5z7Yv42FGrK"
      }
    },
    {
      "cell_type": "code",
      "source": [
        "%cd ../yolov5\n",
        "!python classify/train.py --model yolov5m-cls.pt --data $DATASET_NAME --epochs 320 --img 128 --pretrained weights/yolov5s-cls.pt"
      ],
      "metadata": {
        "id": "MXWTTN2BEaqe",
        "colab": {
          "base_uri": "https://localhost:8080/"
        },
        "outputId": "8e522f91-01f7-469a-e729-e1a2b0c884fc"
      },
      "execution_count": 13,
      "outputs": [
        {
          "output_type": "stream",
          "name": "stdout",
          "text": [
            "/content/yolov5\n",
            "2024-02-20 06:47:03.743758: E external/local_xla/xla/stream_executor/cuda/cuda_dnn.cc:9261] Unable to register cuDNN factory: Attempting to register factory for plugin cuDNN when one has already been registered\n",
            "2024-02-20 06:47:03.743805: E external/local_xla/xla/stream_executor/cuda/cuda_fft.cc:607] Unable to register cuFFT factory: Attempting to register factory for plugin cuFFT when one has already been registered\n",
            "2024-02-20 06:47:03.745135: E external/local_xla/xla/stream_executor/cuda/cuda_blas.cc:1515] Unable to register cuBLAS factory: Attempting to register factory for plugin cuBLAS when one has already been registered\n",
            "\u001b[34m\u001b[1mclassify/train: \u001b[0mmodel=yolov5m-cls.pt, data=water-quality-1, epochs=320, batch_size=64, imgsz=128, nosave=False, cache=None, device=, workers=8, project=runs/train-cls, name=exp, exist_ok=False, pretrained=weights/yolov5s-cls.pt, optimizer=Adam, lr0=0.001, decay=5e-05, label_smoothing=0.1, cutoff=None, dropout=None, verbose=False, seed=0, local_rank=-1\n",
            "\u001b[34m\u001b[1mgithub: \u001b[0mup to date with https://github.com/ultralytics/yolov5 ✅\n",
            "YOLOv5 🚀 v7.0-284-g95ebf68f Python-3.10.12 torch-2.1.0+cu121 CUDA:0 (Tesla T4, 15102MiB)\n",
            "\n",
            "\u001b[34m\u001b[1mTensorBoard: \u001b[0mStart with 'tensorboard --logdir runs/train-cls', view at http://localhost:6006/\n",
            "\u001b[34m\u001b[1malbumentations: \u001b[0mRandomResizedCrop(p=1.0, height=128, width=128, scale=(0.08, 1.0), ratio=(0.75, 1.3333333333333333), interpolation=1), HorizontalFlip(p=0.5), ColorJitter(p=0.5, brightness=[0.6, 1.4], contrast=[0.6, 1.4], saturation=[0.6, 1.4], hue=[0, 0]), Normalize(p=1.0, mean=(0.485, 0.456, 0.406), std=(0.229, 0.224, 0.225), max_pixel_value=255.0), ToTensorV2(always_apply=True, p=1.0, transpose_mask=False)\n",
            "Downloading https://github.com/ultralytics/yolov5/releases/download/v7.0/yolov5m-cls.pt to yolov5m-cls.pt...\n",
            "100% 24.9M/24.9M [00:00<00:00, 233MB/s]\n",
            "\n",
            "Model summary: 212 layers, 11681764 parameters, 11681764 gradients, 30.9 GFLOPs\n",
            "\u001b[34m\u001b[1moptimizer:\u001b[0m Adam(lr=0.001) with parameter groups 46 weight(decay=0.0), 47 weight(decay=5e-05), 47 bias\n",
            "Image sizes 128 train, 128 test\n",
            "Using 1 dataloader workers\n",
            "Logging results to \u001b[1mruns/train-cls/exp2\u001b[0m\n",
            "Starting yolov5m-cls.pt training on water-quality-1 dataset with 4 classes for 320 epochs...\n",
            "\n",
            "     Epoch   GPU_mem  train_loss   test_loss    top1_acc    top5_acc\n",
            "     1/320    0.732G        1.42         1.4           0           1: 100% 1/1 [00:01<00:00,  1.39s/it]\n",
            "     2/320    0.879G        1.65         1.4         0.2           1: 100% 1/1 [00:00<00:00,  9.00it/s]\n",
            "     3/320    0.879G         1.5         1.4         0.2           1: 100% 1/1 [00:00<00:00,  7.97it/s]\n",
            "     4/320    0.879G        2.05        1.41         0.2           1: 100% 1/1 [00:00<00:00,  7.91it/s]\n",
            "     5/320    0.879G        1.27        1.42         0.2           1: 100% 1/1 [00:00<00:00,  7.62it/s]\n",
            "     6/320    0.879G        1.24        1.42         0.2           1: 100% 1/1 [00:00<00:00,  8.52it/s]\n",
            "     7/320    0.879G        1.17        1.43         0.2           1: 100% 1/1 [00:00<00:00,  9.58it/s]\n",
            "     8/320    0.879G        1.24        1.46         0.2           1: 100% 1/1 [00:00<00:00,  6.82it/s]\n",
            "     9/320    0.879G        1.15        1.49         0.2           1: 100% 1/1 [00:00<00:00,  7.49it/s]\n",
            "    10/320    0.879G        1.01        1.55         0.2           1: 100% 1/1 [00:00<00:00,  8.27it/s]\n",
            "    11/320    0.879G        1.01        1.62         0.2           1: 100% 1/1 [00:00<00:00,  9.81it/s]\n",
            "    12/320    0.879G        1.01        1.71         0.2           1: 100% 1/1 [00:00<00:00,  8.92it/s]\n",
            "    13/320    0.879G        0.94        1.81         0.2           1: 100% 1/1 [00:00<00:00,  8.43it/s]\n",
            "    14/320    0.879G        1.01        1.87         0.2           1: 100% 1/1 [00:00<00:00,  8.70it/s]\n",
            "    15/320    0.879G        1.12        1.88         0.2           1: 100% 1/1 [00:00<00:00,  8.49it/s]\n",
            "    16/320    0.879G        1.16        1.86         0.2           1: 100% 1/1 [00:00<00:00,  7.30it/s]\n",
            "    17/320    0.879G        1.09        1.86         0.2           1: 100% 1/1 [00:00<00:00,  4.70it/s]\n",
            "    18/320    0.879G       0.994        1.85         0.2           1: 100% 1/1 [00:00<00:00,  5.25it/s]\n",
            "    19/320    0.879G        1.06        1.84         0.2           1: 100% 1/1 [00:00<00:00,  4.68it/s]\n",
            "    20/320    0.879G       0.986        1.81         0.2           1: 100% 1/1 [00:00<00:00,  5.83it/s]\n",
            "    21/320    0.879G        0.94        1.81         0.2           1: 100% 1/1 [00:00<00:00,  8.79it/s]\n",
            "    22/320    0.879G       0.982        1.79         0.2           1: 100% 1/1 [00:00<00:00,  9.69it/s]\n",
            "    23/320    0.879G        1.07        1.78         0.2           1: 100% 1/1 [00:00<00:00,  7.94it/s]\n",
            "    24/320    0.879G        1.05        1.78         0.2           1: 100% 1/1 [00:00<00:00,  7.82it/s]\n",
            "    25/320    0.879G       0.915        1.78         0.2           1: 100% 1/1 [00:00<00:00,  7.63it/s]\n",
            "    26/320    0.879G       0.954        1.82         0.2           1: 100% 1/1 [00:00<00:00,  7.35it/s]\n",
            "    27/320    0.879G       0.962        1.84         0.2           1: 100% 1/1 [00:00<00:00, 11.10it/s]\n",
            "    28/320    0.879G        1.01        1.92         0.2           1: 100% 1/1 [00:00<00:00, 10.72it/s]\n",
            "    29/320    0.879G        1.03        1.96         0.2           1: 100% 1/1 [00:00<00:00,  9.04it/s]\n",
            "    30/320    0.879G       0.993        1.98         0.2           1: 100% 1/1 [00:00<00:00,  7.78it/s]\n",
            "    31/320    0.879G        1.08        2.02         0.2           1: 100% 1/1 [00:00<00:00,  9.28it/s]\n",
            "    32/320    0.879G        0.93        2.05         0.2           1: 100% 1/1 [00:00<00:00,  8.23it/s]\n",
            "    33/320    0.879G       0.928        2.07         0.2           1: 100% 1/1 [00:00<00:00,  7.67it/s]\n",
            "    34/320    0.879G        0.97        2.08         0.2           1: 100% 1/1 [00:00<00:00,  8.30it/s]\n",
            "    35/320    0.879G       0.933         2.2         0.2           1: 100% 1/1 [00:00<00:00,  8.22it/s]\n",
            "    36/320    0.879G        1.01        2.36         0.2           1: 100% 1/1 [00:00<00:00,  7.88it/s]\n",
            "    37/320    0.879G       0.932        2.46           0           1: 100% 1/1 [00:00<00:00,  8.55it/s]\n",
            "    38/320    0.879G       0.966        2.43           0           1: 100% 1/1 [00:00<00:00,  9.73it/s]\n",
            "    39/320    0.879G        1.11        2.29           0           1: 100% 1/1 [00:00<00:00,  8.70it/s]\n",
            "    40/320    0.879G        1.03        2.28         0.2           1: 100% 1/1 [00:00<00:00,  4.15it/s]\n",
            "    41/320    0.879G       0.932        2.25         0.2           1: 100% 1/1 [00:00<00:00,  3.40it/s]\n",
            "    42/320    0.879G       0.958        2.29         0.2           1: 100% 1/1 [00:00<00:00,  6.32it/s]\n",
            "    43/320    0.879G       0.896        2.35           0           1: 100% 1/1 [00:00<00:00,  5.32it/s]\n",
            "    44/320    0.879G        1.03        2.36           0           1: 100% 1/1 [00:00<00:00,  7.12it/s]\n",
            "    45/320    0.879G       0.973        2.35           0           1: 100% 1/1 [00:00<00:00,  5.82it/s]\n",
            "    46/320    0.879G       0.909        2.46           0           1: 100% 1/1 [00:00<00:00,  5.05it/s]\n",
            "    47/320    0.879G       0.939        2.53           0           1: 100% 1/1 [00:00<00:00,  5.11it/s]\n",
            "    48/320    0.879G       0.936        2.62           0           1: 100% 1/1 [00:00<00:00,  4.84it/s]\n",
            "    49/320    0.879G       0.911        2.61           0           1: 100% 1/1 [00:00<00:00,  4.85it/s]\n",
            "    50/320    0.879G       0.857        2.63           0           1: 100% 1/1 [00:00<00:00,  5.13it/s]\n",
            "    51/320    0.879G       0.874        2.64           0           1: 100% 1/1 [00:00<00:00,  5.00it/s]\n",
            "    52/320    0.879G       0.904        2.64           0           1: 100% 1/1 [00:00<00:00,  4.66it/s]\n",
            "    53/320    0.879G        0.98        2.55           0           1: 100% 1/1 [00:00<00:00,  5.04it/s]\n",
            "    54/320    0.879G       0.891        2.46           0           1: 100% 1/1 [00:00<00:00,  6.86it/s]\n",
            "    55/320    0.879G       0.863        2.39           0           1: 100% 1/1 [00:00<00:00,  6.91it/s]\n",
            "    56/320    0.879G       0.913        2.25           0           1: 100% 1/1 [00:00<00:00,  5.55it/s]\n",
            "    57/320    0.879G        0.88        2.13         0.2           1: 100% 1/1 [00:00<00:00,  4.37it/s]\n",
            "    58/320    0.879G       0.871        2.16         0.2           1: 100% 1/1 [00:00<00:00,  6.60it/s]\n",
            "    59/320    0.879G       0.867        2.25           0           1: 100% 1/1 [00:00<00:00,  8.82it/s]\n",
            "    60/320    0.879G       0.974        2.26         0.2           1: 100% 1/1 [00:00<00:00,  9.30it/s]\n",
            "    61/320    0.879G       0.894        2.19           0           1: 100% 1/1 [00:00<00:00,  7.51it/s]\n",
            "    62/320    0.879G       0.749        2.17           0           1: 100% 1/1 [00:00<00:00,  8.77it/s]\n",
            "    63/320    0.879G        1.01        2.23           0           1: 100% 1/1 [00:00<00:00,  8.07it/s]\n",
            "    64/320    0.879G       0.831        2.34         0.2           1: 100% 1/1 [00:00<00:00,  6.41it/s]\n",
            "    65/320    0.879G       0.785        2.49         0.2           1: 100% 1/1 [00:00<00:00,  7.82it/s]\n",
            "    66/320    0.879G        0.87        2.59         0.2           1: 100% 1/1 [00:00<00:00,  8.76it/s]\n",
            "    67/320    0.879G       0.822        2.79         0.2           1: 100% 1/1 [00:00<00:00, 10.09it/s]\n",
            "    68/320    0.879G       0.828        2.77         0.2           1: 100% 1/1 [00:00<00:00,  4.56it/s]\n",
            "    69/320    0.879G       0.921        2.66         0.2           1: 100% 1/1 [00:00<00:00,  5.51it/s]\n",
            "    70/320    0.879G       0.897        2.47         0.2           1: 100% 1/1 [00:00<00:00,  6.85it/s]\n",
            "    71/320    0.879G        1.03         2.4         0.2           1: 100% 1/1 [00:00<00:00,  7.47it/s]\n",
            "    72/320    0.879G       0.883        2.33         0.2           1: 100% 1/1 [00:00<00:00,  6.92it/s]\n",
            "    73/320    0.879G       0.753        2.29         0.2           1: 100% 1/1 [00:00<00:00,  8.11it/s]\n",
            "    74/320    0.879G       0.828        2.36         0.2           1: 100% 1/1 [00:00<00:00, 10.42it/s]\n",
            "    75/320    0.879G       0.862        2.41         0.2           1: 100% 1/1 [00:00<00:00,  7.59it/s]\n",
            "    76/320    0.879G       0.841        2.53         0.2           1: 100% 1/1 [00:00<00:00,  8.16it/s]\n",
            "    77/320    0.879G       0.927        2.51         0.2           1: 100% 1/1 [00:00<00:00,  8.20it/s]\n",
            "    78/320    0.879G       0.855         2.4         0.2           1: 100% 1/1 [00:00<00:00,  8.57it/s]\n",
            "    79/320    0.879G       0.909        2.27         0.2           1: 100% 1/1 [00:00<00:00,  9.18it/s]\n",
            "    80/320    0.879G       0.849        2.17         0.2           1: 100% 1/1 [00:00<00:00,  8.41it/s]\n",
            "    81/320    0.879G       0.861        2.04         0.2           1: 100% 1/1 [00:00<00:00,  6.82it/s]\n",
            "    82/320    0.879G       0.752        1.99         0.2           1: 100% 1/1 [00:00<00:00,  8.61it/s]\n",
            "    83/320    0.879G       0.842        2.02           0           1: 100% 1/1 [00:00<00:00,  8.73it/s]\n",
            "    84/320    0.879G        0.93        2.08           0           1: 100% 1/1 [00:00<00:00,  8.72it/s]\n",
            "    85/320    0.879G       0.855        2.06           0           1: 100% 1/1 [00:00<00:00,  7.67it/s]\n",
            "    86/320    0.879G       0.746        2.13         0.2           1: 100% 1/1 [00:00<00:00,  6.49it/s]\n",
            "    87/320    0.879G       0.865        2.25         0.2           1: 100% 1/1 [00:00<00:00,  9.46it/s]\n",
            "    88/320    0.879G       0.772        2.27         0.2           1: 100% 1/1 [00:00<00:00,  9.12it/s]\n",
            "    89/320    0.879G        0.73        2.21         0.2           1: 100% 1/1 [00:00<00:00,  8.21it/s]\n",
            "    90/320    0.879G       0.836        2.23         0.2           1: 100% 1/1 [00:00<00:00,  7.59it/s]\n",
            "    91/320    0.879G       0.763        2.25         0.2           1: 100% 1/1 [00:00<00:00,  5.67it/s]\n",
            "    92/320    0.879G       0.809        2.22         0.2           1: 100% 1/1 [00:00<00:00,  6.24it/s]\n",
            "    93/320    0.879G       0.779        2.22         0.2           1: 100% 1/1 [00:00<00:00,  6.64it/s]\n",
            "    94/320    0.879G       0.962        2.17         0.2           1: 100% 1/1 [00:00<00:00,  7.88it/s]\n",
            "    95/320    0.879G        0.79         2.2         0.2           1: 100% 1/1 [00:00<00:00,  7.65it/s]\n",
            "    96/320    0.879G       0.712        2.24         0.2           1: 100% 1/1 [00:00<00:00,  5.83it/s]\n",
            "    97/320    0.879G       0.963        2.26         0.2           1: 100% 1/1 [00:00<00:00,  6.20it/s]\n",
            "    98/320    0.879G       0.754        2.27         0.2           1: 100% 1/1 [00:00<00:00,  4.87it/s]\n",
            "    99/320    0.879G       0.697        2.29         0.2           1: 100% 1/1 [00:00<00:00,  7.41it/s]\n",
            "   100/320    0.879G       0.773        2.29         0.2           1: 100% 1/1 [00:00<00:00,  6.16it/s]\n",
            "   101/320    0.879G       0.778        2.27         0.2           1: 100% 1/1 [00:00<00:00,  8.46it/s]\n",
            "   102/320    0.879G       0.838        2.23         0.2           1: 100% 1/1 [00:00<00:00,  7.46it/s]\n",
            "   103/320    0.879G        0.82        2.17         0.2           1: 100% 1/1 [00:00<00:00,  8.74it/s]\n",
            "   104/320    0.879G       0.962        2.17         0.2           1: 100% 1/1 [00:00<00:00, 10.11it/s]\n",
            "   105/320    0.879G       0.868        2.16         0.2           1: 100% 1/1 [00:00<00:00, 10.77it/s]\n",
            "   106/320    0.879G       0.806        2.19         0.2           1: 100% 1/1 [00:00<00:00,  7.41it/s]\n",
            "   107/320    0.879G       0.748        2.17         0.2           1: 100% 1/1 [00:00<00:00, 10.07it/s]\n",
            "   108/320    0.879G       0.824        2.11         0.2           1: 100% 1/1 [00:00<00:00,  7.68it/s]\n",
            "   109/320    0.879G       0.798        2.07         0.2           1: 100% 1/1 [00:00<00:00,  7.62it/s]\n",
            "   110/320    0.879G       0.762        2.06         0.2           1: 100% 1/1 [00:00<00:00,  9.21it/s]\n",
            "   111/320    0.879G       0.742        2.04         0.2           1: 100% 1/1 [00:00<00:00,  9.81it/s]\n",
            "   112/320    0.879G       0.791        2.01         0.2           1: 100% 1/1 [00:00<00:00,  9.76it/s]\n",
            "   113/320    0.879G       0.872        2.08         0.2           1: 100% 1/1 [00:00<00:00, 10.33it/s]\n",
            "   114/320    0.879G       0.773        2.25           0           1: 100% 1/1 [00:00<00:00,  5.22it/s]\n",
            "   115/320    0.879G        0.76         2.3           0           1: 100% 1/1 [00:00<00:00,  4.49it/s]\n",
            "   116/320    0.879G       0.819        2.33           0           1: 100% 1/1 [00:00<00:00,  2.67it/s]\n",
            "   117/320    0.879G       0.767        2.39           0           1: 100% 1/1 [00:00<00:00,  4.57it/s]\n",
            "   118/320    0.879G         0.7        2.51           0           1: 100% 1/1 [00:00<00:00,  3.98it/s]\n",
            "   119/320    0.879G       0.842        2.54           0           1: 100% 1/1 [00:00<00:00,  4.67it/s]\n",
            "   120/320    0.879G       0.783         2.5         0.2           1: 100% 1/1 [00:00<00:00,  5.46it/s]\n",
            "   121/320    0.879G       0.975        2.35         0.2           1: 100% 1/1 [00:00<00:00, 10.91it/s]\n",
            "   122/320    0.879G       0.851        2.27           0           1: 100% 1/1 [00:00<00:00, 10.62it/s]\n",
            "   123/320    0.879G       0.888         2.3           0           1: 100% 1/1 [00:00<00:00,  4.77it/s]\n",
            "   124/320    0.879G       0.842        2.09           0           1: 100% 1/1 [00:00<00:00,  4.52it/s]\n",
            "   125/320    0.879G       0.814        1.99         0.2           1: 100% 1/1 [00:00<00:00,  1.82it/s]\n",
            "   126/320    0.879G       0.793         1.9         0.4           1: 100% 1/1 [00:00<00:00, 11.09it/s]\n",
            "   127/320    0.879G       0.786        1.88         0.4           1: 100% 1/1 [00:00<00:00,  8.45it/s]\n",
            "   128/320    0.879G       0.841        1.93         0.2           1: 100% 1/1 [00:00<00:00,  7.63it/s]\n",
            "   129/320    0.879G       0.762        2.07         0.2           1: 100% 1/1 [00:00<00:00,  7.97it/s]\n",
            "   130/320    0.879G       0.805        2.18         0.2           1: 100% 1/1 [00:00<00:00,  8.54it/s]\n",
            "   131/320    0.879G       0.741        2.28         0.2           1: 100% 1/1 [00:00<00:00,  8.68it/s]\n",
            "   132/320    0.879G       0.705        2.32         0.2           1: 100% 1/1 [00:00<00:00,  8.44it/s]\n",
            "   133/320    0.879G        0.77        2.37           0           1: 100% 1/1 [00:00<00:00,  5.83it/s]\n",
            "   134/320    0.879G       0.783        2.43           0           1: 100% 1/1 [00:00<00:00,  6.15it/s]\n",
            "   135/320    0.879G       0.741        2.52           0           1: 100% 1/1 [00:00<00:00,  6.30it/s]\n",
            "   136/320    0.879G       0.852        2.54           0           1: 100% 1/1 [00:00<00:00,  4.52it/s]\n",
            "   137/320    0.879G       0.801        2.54           0           1: 100% 1/1 [00:00<00:00,  5.17it/s]\n",
            "   138/320    0.879G        0.71        2.46           0           1: 100% 1/1 [00:00<00:00,  5.68it/s]\n",
            "   139/320    0.879G       0.716        2.41           0           1: 100% 1/1 [00:00<00:00,  5.13it/s]\n",
            "   140/320    0.879G       0.736        2.41           0           1: 100% 1/1 [00:00<00:00,  5.19it/s]\n",
            "   141/320    0.879G       0.695        2.42           0           1: 100% 1/1 [00:00<00:00,  5.94it/s]\n",
            "   142/320    0.879G       0.777        2.48           0           1: 100% 1/1 [00:00<00:00,  3.40it/s]\n",
            "   143/320    0.879G       0.691        2.47           0           1: 100% 1/1 [00:00<00:00,  3.11it/s]\n",
            "   144/320    0.879G       0.666        2.39           0           1: 100% 1/1 [00:00<00:00,  3.27it/s]\n",
            "   145/320    0.879G       0.885        2.33           0           1: 100% 1/1 [00:00<00:00,  4.96it/s]\n",
            "   146/320    0.879G       0.734        2.29           0           1: 100% 1/1 [00:00<00:00,  5.68it/s]\n",
            "   147/320    0.879G       0.687        2.22           0           1: 100% 1/1 [00:00<00:00,  5.03it/s]\n",
            "   148/320    0.879G       0.718        2.14           0           1: 100% 1/1 [00:00<00:00,  5.81it/s]\n",
            "   149/320    0.879G       0.779        2.09           0           1: 100% 1/1 [00:00<00:00,  5.80it/s]\n",
            "   150/320    0.879G       0.756        2.07           0           1: 100% 1/1 [00:00<00:00,  5.13it/s]\n",
            "   151/320    0.879G       0.726        2.08           0           1: 100% 1/1 [00:00<00:00,  4.26it/s]\n",
            "   152/320    0.879G       0.803        2.02           0           1: 100% 1/1 [00:00<00:00,  6.01it/s]\n",
            "   153/320    0.879G        0.83        1.96           0           1: 100% 1/1 [00:00<00:00,  5.54it/s]\n",
            "   154/320    0.879G        0.72        1.95         0.2           1: 100% 1/1 [00:00<00:00,  5.37it/s]\n",
            "   155/320    0.879G       0.655        1.99           0           1: 100% 1/1 [00:00<00:00,  4.64it/s]\n",
            "   156/320    0.879G       0.669        2.02           0           1: 100% 1/1 [00:00<00:00,  6.06it/s]\n",
            "   157/320    0.879G       0.646        2.05           0           1: 100% 1/1 [00:00<00:00,  5.21it/s]\n",
            "   158/320    0.879G       0.699        2.07           0           1: 100% 1/1 [00:00<00:00,  5.08it/s]\n",
            "   159/320    0.879G       0.732        2.08           0           1: 100% 1/1 [00:00<00:00,  5.72it/s]\n",
            "   160/320    0.879G       0.612        2.09           0           1: 100% 1/1 [00:00<00:00,  5.90it/s]\n",
            "   161/320    0.879G       0.676        2.19           0           1: 100% 1/1 [00:00<00:00,  5.41it/s]\n",
            "   162/320    0.879G       0.776        2.25           0           1: 100% 1/1 [00:00<00:00,  5.86it/s]\n",
            "   163/320    0.879G       0.781        2.28           0           1: 100% 1/1 [00:00<00:00,  4.21it/s]\n",
            "   164/320    0.879G       0.629        2.27           0           1: 100% 1/1 [00:00<00:00,  7.42it/s]\n",
            "   165/320    0.879G       0.596        2.27           0           1: 100% 1/1 [00:00<00:00,  9.21it/s]\n",
            "   166/320    0.879G       0.767         2.2           0           1: 100% 1/1 [00:00<00:00,  7.09it/s]\n",
            "   167/320    0.879G       0.997        2.22           0           1: 100% 1/1 [00:00<00:00,  5.87it/s]\n",
            "   168/320    0.879G       0.789        1.99         0.2           1: 100% 1/1 [00:00<00:00,  3.96it/s]\n",
            "   169/320    0.879G       0.769        1.81         0.2           1: 100% 1/1 [00:00<00:00,  5.82it/s]\n",
            "   170/320    0.879G        0.83        1.73         0.2           1: 100% 1/1 [00:00<00:00,  5.53it/s]\n",
            "   171/320    0.879G       0.767        1.72         0.2           1: 100% 1/1 [00:00<00:00,  3.81it/s]\n",
            "   172/320    0.879G       0.826        1.71         0.2           1: 100% 1/1 [00:00<00:00,  3.04it/s]\n",
            "   173/320    0.879G       0.763         1.7         0.2           1: 100% 1/1 [00:00<00:00,  2.63it/s]\n",
            "   174/320    0.879G       0.793        1.74         0.2           1: 100% 1/1 [00:00<00:00,  5.26it/s]\n",
            "   175/320    0.879G       0.736        1.68           0           1: 100% 1/1 [00:00<00:00,  4.43it/s]\n",
            "   176/320    0.879G       0.726        1.65           0           1: 100% 1/1 [00:00<00:00,  6.99it/s]\n",
            "   177/320    0.879G       0.709        1.66           0           1: 100% 1/1 [00:00<00:00,  5.28it/s]\n",
            "   178/320    0.879G       0.952        1.72           0           1: 100% 1/1 [00:00<00:00,  4.82it/s]\n",
            "   179/320    0.879G       0.769        1.78           0           1: 100% 1/1 [00:00<00:00,  4.47it/s]\n",
            "   180/320    0.879G       0.881         1.6           0           1: 100% 1/1 [00:00<00:00,  5.08it/s]\n",
            "   181/320    0.879G       0.705        1.47         0.2           1: 100% 1/1 [00:00<00:00,  4.84it/s]\n",
            "   182/320    0.879G       0.922        1.39         0.2           1: 100% 1/1 [00:00<00:00,  6.23it/s]\n",
            "   183/320    0.879G       0.762        1.35         0.2           1: 100% 1/1 [00:00<00:00,  6.76it/s]\n",
            "   184/320    0.879G       0.848        1.29         0.2           1: 100% 1/1 [00:00<00:00,  6.93it/s]\n",
            "   185/320    0.879G       0.736        1.24         0.2           1: 100% 1/1 [00:00<00:00,  5.71it/s]\n",
            "   186/320    0.879G       0.735        1.25         0.4           1: 100% 1/1 [00:00<00:00,  4.40it/s]\n",
            "   187/320    0.879G       0.833        1.29         0.4           1: 100% 1/1 [00:00<00:00,  5.51it/s]\n",
            "   188/320    0.879G       0.764        1.41         0.4           1: 100% 1/1 [00:00<00:00,  6.82it/s]\n",
            "   189/320    0.879G       0.737         1.6         0.4           1: 100% 1/1 [00:00<00:00,  6.93it/s]\n",
            "   190/320    0.879G        0.69        1.76         0.2           1: 100% 1/1 [00:00<00:00,  9.10it/s]\n",
            "   191/320    0.879G       0.787         1.9         0.2           1: 100% 1/1 [00:00<00:00,  6.32it/s]\n",
            "   192/320    0.879G       0.767        1.99         0.2           1: 100% 1/1 [00:00<00:00,  5.38it/s]\n",
            "   193/320    0.879G       0.773           2         0.2           1: 100% 1/1 [00:00<00:00,  5.79it/s]\n",
            "   194/320    0.879G       0.668        2.02         0.2           1: 100% 1/1 [00:00<00:00,  5.06it/s]\n",
            "   195/320    0.879G       0.708        2.05         0.2           1: 100% 1/1 [00:00<00:00,  4.93it/s]\n",
            "   196/320    0.879G       0.623        2.09         0.2           1: 100% 1/1 [00:00<00:00,  5.28it/s]\n",
            "   197/320    0.879G       0.764        2.13         0.2           1: 100% 1/1 [00:00<00:00,  5.70it/s]\n",
            "   198/320    0.879G       0.697        2.11         0.2           1: 100% 1/1 [00:00<00:00,  8.59it/s]\n",
            "   199/320    0.879G       0.654        2.06         0.2           1: 100% 1/1 [00:00<00:00,  6.43it/s]\n",
            "   200/320    0.879G       0.618        1.99         0.2           1: 100% 1/1 [00:00<00:00,  6.40it/s]\n",
            "   201/320    0.879G         0.8        1.92         0.2           1: 100% 1/1 [00:00<00:00,  6.82it/s]\n",
            "   202/320    0.879G       0.604        1.88         0.2           1: 100% 1/1 [00:00<00:00,  8.78it/s]\n",
            "   203/320    0.879G        0.58        1.86         0.2           1: 100% 1/1 [00:00<00:00,  4.94it/s]\n",
            "   204/320    0.879G        0.64        1.83           0           1: 100% 1/1 [00:00<00:00,  5.83it/s]\n",
            "   205/320    0.879G       0.656        1.82           0           1: 100% 1/1 [00:00<00:00,  5.37it/s]\n",
            "   206/320    0.879G       0.728        1.78           0           1: 100% 1/1 [00:00<00:00,  4.66it/s]\n",
            "   207/320    0.879G       0.679        1.71         0.4           1: 100% 1/1 [00:00<00:00,  4.86it/s]\n",
            "   208/320    0.879G        0.54        1.69         0.4           1: 100% 1/1 [00:00<00:00,  9.16it/s]\n",
            "   209/320    0.879G       0.677        1.69         0.4           1: 100% 1/1 [00:00<00:00,  9.77it/s]\n",
            "   210/320    0.879G       0.634        1.74         0.4           1: 100% 1/1 [00:00<00:00,  8.20it/s]\n",
            "   211/320    0.879G       0.681        1.83         0.2           1: 100% 1/1 [00:00<00:00,  5.97it/s]\n",
            "   212/320    0.879G        0.62        1.94         0.2           1: 100% 1/1 [00:00<00:00,  5.52it/s]\n",
            "   213/320    0.879G       0.586        2.02         0.2           1: 100% 1/1 [00:00<00:00,  6.51it/s]\n",
            "   214/320    0.879G       0.574        2.08         0.2           1: 100% 1/1 [00:00<00:00,  5.42it/s]\n",
            "   215/320    0.879G       0.695        2.11         0.2           1: 100% 1/1 [00:00<00:00,  5.64it/s]\n",
            "   216/320    0.879G       0.614        2.16         0.2           1: 100% 1/1 [00:00<00:00,  4.70it/s]\n",
            "   217/320    0.879G       0.751        2.23         0.2           1: 100% 1/1 [00:00<00:00,  6.01it/s]\n",
            "   218/320    0.879G       0.569        2.27         0.2           1: 100% 1/1 [00:00<00:00,  6.17it/s]\n",
            "   219/320    0.879G       0.805        2.34         0.2           1: 100% 1/1 [00:00<00:00,  5.29it/s]\n",
            "   220/320    0.879G        0.82        2.36         0.2           1: 100% 1/1 [00:00<00:00,  5.17it/s]\n",
            "   221/320    0.879G       0.579        2.36         0.2           1: 100% 1/1 [00:00<00:00,  4.99it/s]\n",
            "   222/320    0.879G       0.663        2.33         0.2           1: 100% 1/1 [00:00<00:00,  5.30it/s]\n",
            "   223/320    0.879G       0.705        2.28         0.2           1: 100% 1/1 [00:00<00:00,  5.44it/s]\n",
            "   224/320    0.879G       0.711        2.24         0.2           1: 100% 1/1 [00:00<00:00,  5.67it/s]\n",
            "   225/320    0.879G       0.693         2.1         0.2           1: 100% 1/1 [00:00<00:00,  4.82it/s]\n",
            "   226/320    0.879G        0.68           2         0.2           1: 100% 1/1 [00:00<00:00,  4.67it/s]\n",
            "   227/320    0.879G       0.624        1.97         0.2           1: 100% 1/1 [00:00<00:00,  3.13it/s]\n",
            "   228/320    0.879G       0.724        2.01           0           1: 100% 1/1 [00:00<00:00,  3.23it/s]\n",
            "   229/320    0.879G        0.75           2           0           1: 100% 1/1 [00:00<00:00,  3.25it/s]\n",
            "   230/320    0.879G        0.82        1.97         0.2           1: 100% 1/1 [00:00<00:00,  5.09it/s]\n",
            "   231/320    0.879G       0.696        1.97         0.2           1: 100% 1/1 [00:00<00:00,  3.30it/s]\n",
            "   232/320    0.879G       0.675        1.95         0.2           1: 100% 1/1 [00:00<00:00,  2.16it/s]\n",
            "   233/320    0.879G       0.649        1.93         0.2           1: 100% 1/1 [00:00<00:00,  9.77it/s]\n",
            "   234/320    0.879G       0.681        1.96         0.2           1: 100% 1/1 [00:00<00:00,  8.48it/s]\n",
            "   235/320    0.879G       0.643           2         0.2           1: 100% 1/1 [00:00<00:00,  5.52it/s]\n",
            "   236/320    0.879G       0.663        2.06         0.2           1: 100% 1/1 [00:00<00:00,  5.74it/s]\n",
            "   237/320    0.879G       0.548        2.12         0.2           1: 100% 1/1 [00:00<00:00,  6.09it/s]\n",
            "   238/320    0.879G       0.608        2.15         0.2           1: 100% 1/1 [00:00<00:00,  7.61it/s]\n",
            "   239/320    0.879G       0.571        2.17         0.2           1: 100% 1/1 [00:00<00:00,  4.73it/s]\n",
            "   240/320    0.879G       0.583         2.2         0.2           1: 100% 1/1 [00:00<00:00,  4.90it/s]\n",
            "   241/320    0.879G       0.667        2.24         0.2           1: 100% 1/1 [00:00<00:00,  5.47it/s]\n",
            "   242/320    0.879G       0.576        2.28         0.2           1: 100% 1/1 [00:00<00:00,  5.61it/s]\n",
            "   243/320    0.879G       0.535        2.32         0.2           1: 100% 1/1 [00:00<00:00,  5.21it/s]\n",
            "   244/320    0.879G       0.619        2.39         0.2           1: 100% 1/1 [00:00<00:00,  5.09it/s]\n",
            "   245/320    0.879G        0.58        2.48         0.2           1: 100% 1/1 [00:00<00:00,  7.34it/s]\n",
            "   246/320    0.879G       0.695        2.46         0.2           1: 100% 1/1 [00:00<00:00,  4.99it/s]\n",
            "   247/320    0.879G       0.556        2.43         0.2           1: 100% 1/1 [00:00<00:00,  4.68it/s]\n",
            "   248/320    0.879G       0.616        2.39         0.2           1: 100% 1/1 [00:00<00:00,  5.61it/s]\n",
            "   249/320    0.879G       0.471        2.39         0.2           1: 100% 1/1 [00:00<00:00,  5.91it/s]\n",
            "   250/320    0.879G       0.672        2.36         0.2           1: 100% 1/1 [00:00<00:00,  5.60it/s]\n",
            "   251/320    0.879G       0.676        2.26         0.2           1: 100% 1/1 [00:00<00:00,  6.13it/s]\n",
            "   252/320    0.879G       0.527        2.22         0.2           1: 100% 1/1 [00:00<00:00,  5.43it/s]\n",
            "   253/320    0.879G       0.587        2.19         0.2           1: 100% 1/1 [00:00<00:00,  6.55it/s]\n",
            "   254/320    0.879G       0.674        2.19         0.2           1: 100% 1/1 [00:00<00:00,  6.68it/s]\n",
            "   255/320    0.879G       0.644        2.18         0.2           1: 100% 1/1 [00:00<00:00,  4.73it/s]\n",
            "   256/320    0.879G       0.704        2.13         0.2           1: 100% 1/1 [00:00<00:00,  3.33it/s]\n",
            "   257/320    0.879G       0.503        2.07         0.2           1: 100% 1/1 [00:00<00:00,  3.00it/s]\n",
            "   258/320    0.879G       0.498        2.03         0.2           1: 100% 1/1 [00:00<00:00,  2.69it/s]\n",
            "   259/320    0.879G       0.585        1.98         0.2           1: 100% 1/1 [00:00<00:00,  3.15it/s]\n",
            "   260/320    0.879G       0.514        1.92         0.2           1: 100% 1/1 [00:00<00:00,  5.43it/s]\n",
            "   261/320    0.879G       0.526        1.88         0.2           1: 100% 1/1 [00:00<00:00,  6.29it/s]\n",
            "   262/320    0.879G       0.629        1.83         0.2           1: 100% 1/1 [00:00<00:00,  6.42it/s]\n",
            "   263/320    0.879G       0.557         1.8         0.2           1: 100% 1/1 [00:00<00:00,  4.92it/s]\n",
            "   264/320    0.879G       0.566        1.79         0.2           1: 100% 1/1 [00:00<00:00,  5.21it/s]\n",
            "   265/320    0.879G       0.735        1.79         0.2           1: 100% 1/1 [00:00<00:00,  5.99it/s]\n",
            "   266/320    0.879G       0.645        1.82         0.2           1: 100% 1/1 [00:00<00:00,  5.34it/s]\n",
            "   267/320    0.879G       0.498        1.84         0.2           1: 100% 1/1 [00:00<00:00,  5.54it/s]\n",
            "   268/320    0.879G       0.641        1.86         0.2           1: 100% 1/1 [00:00<00:00,  5.19it/s]\n",
            "   269/320    0.879G       0.536         1.9         0.2           1: 100% 1/1 [00:00<00:00,  4.45it/s]\n",
            "   270/320    0.879G       0.596        1.97         0.2           1: 100% 1/1 [00:00<00:00,  7.10it/s]\n",
            "   271/320    0.879G       0.541        2.07         0.2           1: 100% 1/1 [00:00<00:00,  4.60it/s]\n",
            "   272/320    0.879G       0.489        2.18         0.2           1: 100% 1/1 [00:00<00:00,  8.95it/s]\n",
            "   273/320    0.879G       0.578        2.25         0.2           1: 100% 1/1 [00:00<00:00,  8.81it/s]\n",
            "   274/320    0.879G       0.515         2.3         0.2           1: 100% 1/1 [00:00<00:00,  9.54it/s]\n",
            "   275/320    0.879G       0.738        2.34         0.2           1: 100% 1/1 [00:00<00:00,  5.36it/s]\n",
            "   276/320    0.879G       0.647        2.37         0.2           1: 100% 1/1 [00:00<00:00,  6.51it/s]\n",
            "   277/320    0.879G       0.434        2.38         0.2           1: 100% 1/1 [00:00<00:00,  4.74it/s]\n",
            "   278/320    0.879G       0.602        2.38         0.2           1: 100% 1/1 [00:00<00:00,  4.54it/s]\n",
            "   279/320    0.879G       0.644        2.35         0.2           1: 100% 1/1 [00:00<00:00,  5.35it/s]\n",
            "   280/320    0.879G       0.498        2.31         0.2           1: 100% 1/1 [00:00<00:00,  5.40it/s]\n",
            "   281/320    0.879G       0.671        2.27         0.2           1: 100% 1/1 [00:00<00:00,  5.93it/s]\n",
            "   282/320    0.879G       0.514        2.23         0.2           1: 100% 1/1 [00:00<00:00,  4.86it/s]\n",
            "   283/320    0.879G       0.638        2.21         0.2           1: 100% 1/1 [00:00<00:00,  4.78it/s]\n",
            "   284/320    0.879G       0.581        2.22         0.2           1: 100% 1/1 [00:00<00:00,  4.37it/s]\n",
            "   285/320    0.879G       0.632        2.23         0.2           1: 100% 1/1 [00:00<00:00,  3.66it/s]\n",
            "   286/320    0.879G        0.57        2.21         0.2           1: 100% 1/1 [00:00<00:00,  3.08it/s]\n",
            "   287/320    0.879G       0.538        2.18         0.2           1: 100% 1/1 [00:00<00:00,  3.27it/s]\n",
            "   288/320    0.879G       0.552        2.16         0.2           1: 100% 1/1 [00:00<00:00,  3.28it/s]\n",
            "   289/320    0.879G       0.675        2.16         0.2           1: 100% 1/1 [00:00<00:00,  6.32it/s]\n",
            "   290/320    0.879G       0.494        2.15         0.2           1: 100% 1/1 [00:00<00:00,  4.51it/s]\n",
            "   291/320    0.879G       0.449        2.17         0.2           1: 100% 1/1 [00:00<00:00,  6.72it/s]\n",
            "   292/320    0.879G       0.561        2.21         0.2           1: 100% 1/1 [00:00<00:00,  6.55it/s]\n",
            "   293/320    0.879G       0.602        2.26         0.2           1: 100% 1/1 [00:00<00:00,  5.46it/s]\n",
            "   294/320    0.879G       0.512        2.31         0.2           1: 100% 1/1 [00:00<00:00,  6.39it/s]\n",
            "   295/320    0.879G       0.573        2.34         0.2           1: 100% 1/1 [00:00<00:00,  4.69it/s]\n",
            "   296/320    0.879G       0.661        2.34         0.2           1: 100% 1/1 [00:00<00:00,  4.63it/s]\n",
            "   297/320    0.879G        0.48        2.33         0.2           1: 100% 1/1 [00:00<00:00,  5.22it/s]\n",
            "   298/320    0.879G       0.578        2.31         0.2           1: 100% 1/1 [00:00<00:00,  6.33it/s]\n",
            "   299/320    0.879G        0.51        2.28         0.2           1: 100% 1/1 [00:00<00:00,  5.20it/s]\n",
            "   300/320    0.879G        0.54        2.25         0.2           1: 100% 1/1 [00:00<00:00,  5.32it/s]\n",
            "   301/320    0.879G       0.482        2.22         0.2           1: 100% 1/1 [00:00<00:00,  4.97it/s]\n",
            "   302/320    0.879G       0.647        2.18         0.2           1: 100% 1/1 [00:00<00:00,  4.41it/s]\n",
            "   303/320    0.879G       0.483        2.14         0.4           1: 100% 1/1 [00:00<00:00,  5.14it/s]\n",
            "   304/320    0.879G       0.614        2.12         0.4           1: 100% 1/1 [00:00<00:00,  9.26it/s]\n",
            "   305/320    0.879G       0.551        2.12         0.4           1: 100% 1/1 [00:00<00:00,  8.95it/s]\n",
            "   306/320    0.879G       0.494        2.13         0.4           1: 100% 1/1 [00:00<00:00,  7.28it/s]\n",
            "   307/320    0.879G       0.481        2.14         0.4           1: 100% 1/1 [00:00<00:00,  8.07it/s]\n",
            "   308/320    0.879G       0.449        2.16         0.4           1: 100% 1/1 [00:00<00:00,  8.80it/s]\n",
            "   309/320    0.879G       0.486        2.17         0.4           1: 100% 1/1 [00:00<00:00,  7.18it/s]\n",
            "   310/320    0.879G       0.518        2.18         0.4           1: 100% 1/1 [00:00<00:00,  7.23it/s]\n",
            "   311/320    0.879G       0.639         2.2         0.4           1: 100% 1/1 [00:00<00:00,  3.58it/s]\n",
            "   312/320    0.879G        0.59        2.23         0.4           1: 100% 1/1 [00:00<00:00,  4.25it/s]\n",
            "   313/320    0.879G       0.424        2.25         0.4           1: 100% 1/1 [00:00<00:00,  5.12it/s]\n",
            "   314/320    0.879G       0.499        2.26         0.4           1: 100% 1/1 [00:00<00:00,  6.06it/s]\n",
            "   315/320    0.879G       0.569        2.27         0.4           1: 100% 1/1 [00:00<00:00,  8.81it/s]\n",
            "   316/320    0.879G       0.554        2.28         0.4           1: 100% 1/1 [00:00<00:00,  7.80it/s]\n",
            "   317/320    0.879G       0.594        2.28         0.4           1: 100% 1/1 [00:00<00:00,  8.53it/s]\n",
            "   318/320    0.879G       0.473        2.28         0.4           1: 100% 1/1 [00:00<00:00,  8.49it/s]\n",
            "   319/320    0.879G       0.512        2.28         0.2           1: 100% 1/1 [00:00<00:00,  7.45it/s]\n",
            "   320/320    0.879G       0.596        2.29         0.2           1: 100% 1/1 [00:00<00:00,  7.38it/s]\n",
            "\n",
            "Training complete (0.043 hours)\n",
            "Results saved to \u001b[1mruns/train-cls/exp2\u001b[0m\n",
            "Predict:         python classify/predict.py --weights runs/train-cls/exp2/weights/best.pt --source im.jpg\n",
            "Validate:        python classify/val.py --weights runs/train-cls/exp2/weights/best.pt --data /content/datasets/water-quality-1\n",
            "Export:          python export.py --weights runs/train-cls/exp2/weights/best.pt --include onnx\n",
            "PyTorch Hub:     model = torch.hub.load('ultralytics/yolov5', 'custom', 'runs/train-cls/exp2/weights/best.pt')\n",
            "Visualize:       https://netron.app\n",
            "\n"
          ]
        }
      ]
    },
    {
      "cell_type": "markdown",
      "source": [
        "### Validate Your Custom Model\n",
        "\n",
        "Repeat step 2 from above to test and validate your custom model."
      ],
      "metadata": {
        "id": "HHUFGeLbGd98"
      }
    },
    {
      "cell_type": "code",
      "source": [
        "!python classify/val.py --weights runs/train-cls/exp/weights/best.pt --data ../datasets/$DATASET_NAME"
      ],
      "metadata": {
        "id": "DIV7ydyKGZFL"
      },
      "execution_count": null,
      "outputs": []
    },
    {
      "cell_type": "markdown",
      "source": [
        "### Infer With Your Custom Model"
      ],
      "metadata": {
        "id": "uH5tJNpEsi6g"
      }
    },
    {
      "cell_type": "code",
      "source": [
        "#Get the path of an image from the test or validation set\n",
        "if os.path.exists(os.path.join(dataset.location, \"test\")):\n",
        "  split_path = os.path.join(dataset.location, \"test\")\n",
        "else:\n",
        "  os.path.join(dataset.location, \"valid\")\n",
        "example_class = os.listdir(split_path)[0]\n",
        "example_image_name = os.listdir(os.path.join(split_path, example_class))[0]\n",
        "example_image_path = os.path.join(split_path, example_class, example_image_name)\n",
        "os.environ[\"TEST_IMAGE_PATH\"] = example_image_path\n",
        "\n",
        "print(f\"Inferring on an example of the class '{example_class}'\")\n",
        "\n",
        "#Infer\n",
        "!python classify/predict.py --weights runs/train-cls/exp/weights/best.pt --source $TEST_IMAGE_PATH"
      ],
      "metadata": {
        "id": "81lK1hU_sk54"
      },
      "execution_count": null,
      "outputs": []
    },
    {
      "cell_type": "markdown",
      "source": [
        "We can see the inference results show ~3ms inference and the respective classes predicted probabilities."
      ],
      "metadata": {
        "id": "DdGuG-1kNjWT"
      }
    },
    {
      "cell_type": "markdown",
      "source": [
        "## (OPTIONAL) Improve Our Model with Active Learning\n",
        "\n",
        "Now that we've trained our model once, we will want to continue to improve its performance. Improvement is largely dependent on improving our dataset.\n",
        "\n",
        "We can programmatically upload example failure images back to our custom dataset based on conditions (like seeing an underrpresented class or a low confidence score) using the same `pip` package."
      ],
      "metadata": {
        "id": "I38IM6NXKNN9"
      }
    },
    {
      "cell_type": "code",
      "source": [
        "# # Upload example image\n",
        "# project.upload(image_path)\n"
      ],
      "metadata": {
        "id": "HycgSEnYKo0J"
      },
      "execution_count": null,
      "outputs": []
    },
    {
      "cell_type": "code",
      "source": [
        "# # Example upload code\n",
        "# min_conf = float(\"inf\")\n",
        "# for pred in results:\n",
        "#     if pred[\"score\"] < min_conf:\n",
        "#         min_conf = pred[\"score\"]\n",
        "# if min_conf < 0.4:\n",
        "#     project.upload(image_path)"
      ],
      "metadata": {
        "id": "VwXDoz_vLK3V"
      },
      "execution_count": null,
      "outputs": []
    },
    {
      "cell_type": "markdown",
      "source": [
        "# (BONUS) YOLOv5 classify/predict.py Accepts Several Input Methods\n",
        "- Webcam: `python classify/predict.py --weights yolov5s-cls.pt --source 0`\n",
        "- Image `python classify/predict.py --weights yolov5s-cls.pt --source img.jpg`\n",
        "- Video: `python classify/predict.py --weights yolov5s-cls.pt --source vid.mp4`\n",
        "- Directory: `python classify/predict.py --weights yolov5s-cls.pt --source path/`\n",
        "- Glob: `python classify/predict.py --weights yolov5s-cls.pt --source 'path/*.jpg'`\n",
        "- YouTube: `python classify/predict.py --weights yolov5s-cls.pt --source 'https://youtu.be/Zgi9g1ksQHc'`\n",
        "- RTSP, RTMP, HTTP stream: `python classify/predict.py --weights yolov5s-cls.pt --source 'rtsp://example.com/media.mp4'`"
      ],
      "metadata": {
        "id": "aYlfaHDusN-j"
      }
    },
    {
      "cell_type": "markdown",
      "source": [
        "###Directory Example"
      ],
      "metadata": {
        "id": "iKSP-SNTvcLJ"
      }
    },
    {
      "cell_type": "code",
      "source": [
        "#Directory infer\n",
        "os.environ[\"TEST_CLASS_PATH\"] = test_class_path = os.path.join(*os.environ[\"TEST_IMAGE_PATH\"].split(os.sep)[:-1])\n",
        "print(f\"Infering on all images from the directory {os.environ['TEST_CLASS_PATH']}\")\n",
        "!python classify/predict.py --weights runs/train-cls/exp/weights/best.pt --source /$TEST_CLASS_PATH/"
      ],
      "metadata": {
        "id": "lwSoHcHcvjeD"
      },
      "execution_count": null,
      "outputs": []
    },
    {
      "cell_type": "markdown",
      "source": [
        "###YouTube Example"
      ],
      "metadata": {
        "id": "kCCao9t8se8i"
      }
    },
    {
      "cell_type": "code",
      "source": [
        "#YouTube infer\n",
        "!python classify/predict.py --weights runs/train-cls/exp/weights/best.pt --source 'https://www.youtube.com/watch?v=7AlYA4ItA74'"
      ],
      "metadata": {
        "id": "heebjpJBsakV"
      },
      "execution_count": null,
      "outputs": []
    },
    {
      "cell_type": "markdown",
      "source": [
        "转换模型"
      ],
      "metadata": {
        "id": "Qj3ASAh2PPi4"
      }
    },
    {
      "cell_type": "code",
      "source": [
        "!python export.py --weights /content/yolov5/runs/train-cls/exp2/weights/best.pt --include onnx"
      ],
      "metadata": {
        "colab": {
          "base_uri": "https://localhost:8080/"
        },
        "id": "s_fuug2XPRK-",
        "outputId": "66af3b1e-8cea-4245-ea1f-1c38ff709556"
      },
      "execution_count": 14,
      "outputs": [
        {
          "output_type": "stream",
          "name": "stdout",
          "text": [
            "\u001b[34m\u001b[1mexport: \u001b[0mdata=data/coco128.yaml, weights=['/content/yolov5/runs/train-cls/exp2/weights/best.pt'], imgsz=[640, 640], batch_size=1, device=cpu, half=False, inplace=False, keras=False, optimize=False, int8=False, per_tensor=False, dynamic=False, simplify=False, opset=17, verbose=False, workspace=4, nms=False, agnostic_nms=False, topk_per_class=100, topk_all=100, iou_thres=0.45, conf_thres=0.25, include=['onnx']\n",
            "YOLOv5 🚀 v7.0-284-g95ebf68f Python-3.10.12 torch-2.1.0+cu121 CPU\n",
            "\n",
            "Fusing layers... \n",
            "Model summary: 166 layers, 11671316 parameters, 0 gradients, 30.6 GFLOPs\n",
            "\n",
            "\u001b[34m\u001b[1mPyTorch:\u001b[0m starting from /content/yolov5/runs/train-cls/exp2/weights/best.pt with output shape (1, 4) (22.4 MB)\n",
            "\n",
            "\u001b[34m\u001b[1mONNX:\u001b[0m starting export with onnx 1.15.0...\n",
            "\u001b[34m\u001b[1mONNX:\u001b[0m export success ✅ 1.1s, saved as /content/yolov5/runs/train-cls/exp2/weights/best.onnx (44.6 MB)\n",
            "\n",
            "Export complete (2.5s)\n",
            "Results saved to \u001b[1m/content/yolov5/runs/train-cls/exp2/weights\u001b[0m\n",
            "Detect:          python classify/predict.py --weights /content/yolov5/runs/train-cls/exp2/weights/best.onnx \n",
            "Validate:        python classify/val.py --weights /content/yolov5/runs/train-cls/exp2/weights/best.onnx \n",
            "PyTorch Hub:     model = torch.hub.load('ultralytics/yolov5', 'custom', '/content/yolov5/runs/train-cls/exp2/weights/best.onnx')  # WARNING ⚠️ ClassificationModel not yet supported for PyTorch Hub AutoShape inference\n",
            "Visualize:       https://netron.app\n"
          ]
        }
      ]
    }
  ]
}